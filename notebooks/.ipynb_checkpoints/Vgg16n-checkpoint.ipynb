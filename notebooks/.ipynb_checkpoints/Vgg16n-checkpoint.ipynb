{
 "cells": [
  {
   "cell_type": "code",
   "execution_count": 1,
   "metadata": {
    "execution": {
     "iopub.execute_input": "2024-03-04T09:18:11.501518Z",
     "iopub.status.busy": "2024-03-04T09:18:11.501164Z",
     "iopub.status.idle": "2024-03-04T09:18:25.394799Z",
     "shell.execute_reply": "2024-03-04T09:18:25.393925Z",
     "shell.execute_reply.started": "2024-03-04T09:18:11.501490Z"
    }
   },
   "outputs": [],
   "source": [
    "#Importing Libraries\n",
    "import os\n",
    "import numpy as np\n",
    "import pandas as pd\n",
    "import matplotlib.pyplot as plt\n",
    "import matplotlib.image as mpimg\n",
    "import tensorflow as tf\n",
    "from tensorflow import keras\n",
    "from tensorflow.keras.preprocessing.image import ImageDataGenerator"
   ]
  },
  {
   "cell_type": "code",
   "execution_count": 2,
   "metadata": {
    "execution": {
     "iopub.execute_input": "2024-03-03T12:22:39.327038Z",
     "iopub.status.busy": "2024-03-03T12:22:39.326145Z",
     "iopub.status.idle": "2024-03-03T12:22:42.598638Z",
     "shell.execute_reply": "2024-03-03T12:22:42.597752Z",
     "shell.execute_reply.started": "2024-03-03T12:22:39.326999Z"
    }
   },
   "outputs": [
    {
     "name": "stdout",
     "output_type": "stream",
     "text": [
      "Collecting Pyarrow\n",
      "  Downloading pyarrow-15.0.0-cp39-cp39-win_amd64.whl (24.9 MB)\n",
      "     --------------------------------------- 24.9/24.9 MB 11.3 MB/s eta 0:00:00\n",
      "Requirement already satisfied: numpy<2,>=1.16.6 in c:\\users\\saxam\\anaconda3\\lib\\site-packages (from Pyarrow) (1.26.0)\n",
      "Installing collected packages: Pyarrow\n",
      "Successfully installed Pyarrow-15.0.0\n"
     ]
    },
    {
     "name": "stderr",
     "output_type": "stream",
     "text": [
      "WARNING: Ignoring invalid distribution -cipy (c:\\users\\saxam\\anaconda3\\lib\\site-packages)\n",
      "WARNING: Ignoring invalid distribution -cipy (c:\\users\\saxam\\anaconda3\\lib\\site-packages)\n",
      "WARNING: Ignoring invalid distribution -cipy (c:\\users\\saxam\\anaconda3\\lib\\site-packages)\n",
      "WARNING: Ignoring invalid distribution -cipy (c:\\users\\saxam\\anaconda3\\lib\\site-packages)\n",
      "WARNING: Ignoring invalid distribution -cipy (c:\\users\\saxam\\anaconda3\\lib\\site-packages)\n",
      "WARNING: Ignoring invalid distribution -cipy (c:\\users\\saxam\\anaconda3\\lib\\site-packages)\n",
      "WARNING: Ignoring invalid distribution -cipy (c:\\users\\saxam\\anaconda3\\lib\\site-packages)\n"
     ]
    }
   ],
   "source": [
    "!pip install Pyarrow"
   ]
  },
  {
   "cell_type": "code",
   "execution_count": null,
   "metadata": {
    "execution": {
     "iopub.execute_input": "2024-03-04T09:13:10.212164Z",
     "iopub.status.busy": "2024-03-04T09:13:10.211696Z",
     "iopub.status.idle": "2024-03-04T09:15:20.273802Z",
     "shell.execute_reply": "2024-03-04T09:15:20.272467Z",
     "shell.execute_reply.started": "2024-03-04T09:13:10.212136Z"
    }
   },
   "outputs": [],
   "source": [
    "!pip install tensorflow[and-cuda]"
   ]
  },
  {
   "cell_type": "code",
   "execution_count": null,
   "metadata": {
    "execution": {
     "iopub.execute_input": "2024-03-04T09:20:09.942609Z",
     "iopub.status.busy": "2024-03-04T09:20:09.941692Z",
     "iopub.status.idle": "2024-03-04T09:20:09.947344Z",
     "shell.execute_reply": "2024-03-04T09:20:09.946319Z",
     "shell.execute_reply.started": "2024-03-04T09:20:09.942572Z"
    }
   },
   "outputs": [],
   "source": [
    "train_dir = os.path.join('/kaggle/input/classification','training' )\n",
    "labels = ['cardboard', 'glass', 'metal', 'paper', 'plastic', 'trash']"
   ]
  },
  {
   "cell_type": "code",
   "execution_count": null,
   "metadata": {
    "execution": {
     "iopub.execute_input": "2024-03-04T09:20:14.854963Z",
     "iopub.status.busy": "2024-03-04T09:20:14.854224Z",
     "iopub.status.idle": "2024-03-04T09:20:15.330960Z",
     "shell.execute_reply": "2024-03-04T09:20:15.329949Z",
     "shell.execute_reply.started": "2024-03-04T09:20:14.854932Z"
    }
   },
   "outputs": [],
   "source": [
    "for label in labels:\n",
    "    directory = os.path.join(train_dir, label)\n",
    "    print(\"Images of label \\\"\" + label + \"\\\":\\t\", len(os.listdir(directory)))"
   ]
  },
  {
   "cell_type": "code",
   "execution_count": null,
   "metadata": {
    "execution": {
     "iopub.execute_input": "2024-03-04T09:20:19.230951Z",
     "iopub.status.busy": "2024-03-04T09:20:19.230272Z",
     "iopub.status.idle": "2024-03-04T09:20:25.617569Z",
     "shell.execute_reply": "2024-03-04T09:20:25.616191Z",
     "shell.execute_reply.started": "2024-03-04T09:20:19.230921Z"
    }
   },
   "outputs": [],
   "source": [
    "# plotting images of different review for understanding the dataset\n",
    "\n",
    "plt.figure(figsize=(30,14))\n",
    "\n",
    "for i in range(6):\n",
    "    directory = os.path.join(train_dir, labels[i])\n",
    "    for j in range(10):\n",
    "        path = os.path.join(directory, os.listdir(directory)[j])\n",
    "        img = mpimg.imread(path)\n",
    "        \n",
    "        plt.subplot(6, 10, i*10 + j + 1)\n",
    "        plt.imshow(img)\n",
    "        \n",
    "        if j == 0:\n",
    "            plt.ylabel(labels[i], fontsize=20)\n",
    "        \n",
    "plt.setp(plt.gcf().get_axes(), xticks=[], yticks=[]);\n",
    "plt.tight_layout()\n",
    "plt.show()"
   ]
  },
  {
   "cell_type": "code",
   "execution_count": null,
   "metadata": {
    "execution": {
     "iopub.execute_input": "2024-03-04T09:20:47.575349Z",
     "iopub.status.busy": "2024-03-04T09:20:47.574987Z",
     "iopub.status.idle": "2024-03-04T09:20:47.587287Z",
     "shell.execute_reply": "2024-03-04T09:20:47.586219Z",
     "shell.execute_reply.started": "2024-03-04T09:20:47.575320Z"
    }
   },
   "outputs": [],
   "source": [
    "# checking size of individual image\n",
    "\n",
    "directory = os.path.join(train_dir, 'cardboard')\n",
    "path = os.path.join(directory, os.listdir(directory)[0])\n",
    "image = mpimg.imread(path)\n",
    "image.shape"
   ]
  },
  {
   "cell_type": "code",
   "execution_count": null,
   "metadata": {
    "execution": {
     "iopub.execute_input": "2024-03-04T09:22:28.953423Z",
     "iopub.status.busy": "2024-03-04T09:22:28.953049Z",
     "iopub.status.idle": "2024-03-04T09:22:29.286226Z",
     "shell.execute_reply": "2024-03-04T09:22:29.285283Z",
     "shell.execute_reply.started": "2024-03-04T09:22:28.953393Z"
    }
   },
   "outputs": [],
   "source": [
    "from tensorflow.keras.layers import Conv2D, MaxPooling2D, Flatten, Dense, Dropout\n",
    "from tensorflow.keras import Sequential\n",
    "from tensorflow.keras.regularizers import l2\n",
    "\n",
    "def VGG16_Modified_Reg(input_shape=(224, 224, 3), num_classes=6, reg_lambda=0.0001):\n",
    "\n",
    "  # Block 1 (Reduced filters, L2 regularization)\n",
    "  model = Sequential()\n",
    "  model.add(Conv2D(32, (3, 3), activation='relu', padding='same', input_shape=input_shape, kernel_regularizer=l2(reg_lambda)))  # L2 on kernel weights\n",
    "  model.add(Conv2D(32, (3, 3), activation='relu', padding='same', kernel_regularizer=l2(reg_lambda)))\n",
    "  model.add(MaxPooling2D((2, 2), strides=(2, 2)))\n",
    "\n",
    "  # Block 2 (Reduced filters, L2 regularization)\n",
    "  model.add(Conv2D(64, (3, 3), activation='relu', padding='same', kernel_regularizer=l2(reg_lambda)))\n",
    "  model.add(Conv2D(64, (3, 3), activation='relu', padding='same', kernel_regularizer=l2(reg_lambda)))\n",
    "  model.add(MaxPooling2D((2, 2), strides=(2, 2)))\n",
    "\n",
    "  # Block 3 (Reduced filters, L2 regularization)\n",
    "  model.add(Conv2D(128, (3, 3), activation='relu', padding='same', kernel_regularizer=l2(reg_lambda)))\n",
    "  model.add(Conv2D(128, (3, 3), activation='relu', padding='same', kernel_regularizer=l2(reg_lambda)))\n",
    "  model.add(MaxPooling2D((2, 2), strides=(2, 2)))\n",
    "\n",
    "  # Block 4 (Reduced filters, L2 regularization)\n",
    "  model.add(Conv2D(256, (3, 3), activation='relu', padding='same', kernel_regularizer=l2(reg_lambda)))\n",
    "  model.add(Conv2D(256, (3, 3), activation='relu', padding='same', kernel_regularizer=l2(reg_lambda)))\n",
    "  model.add(Conv2D(256, (3, 3), activation='relu', padding='same', kernel_regularizer=l2(reg_lambda)))  # Added extra convolution layer\n",
    "  model.add(MaxPooling2D((2, 2), strides=(2, 2)))\n",
    "\n",
    "  # Block 5 (Reduced filters, L2 regularization)\n",
    "  model.add(Conv2D(256, (3, 3), activation='relu', padding='same', kernel_regularizer=l2(reg_lambda)))\n",
    "  model.add(Conv2D(256, (3, 3), activation='relu', padding='same', kernel_regularizer=l2(reg_lambda)))\n",
    "  model.add(Conv2D(256, (3, 3), activation='relu', padding='same', kernel_regularizer=l2(reg_lambda)))  # Added extra convolution layer\n",
    "  model.add(MaxPooling2D((2, 2), strides=(2, 2)))\n",
    "\n",
    "  # Classifier (Reduced dense units)\n",
    "  model.add(Flatten())\n",
    "  model.add(Dense(1024, activation='relu', kernel_regularizer=l2(reg_lambda)))  # L2 on dense layer weights\n",
    "  model.add(Dropout(0.5))\n",
    "  model.add(Dense(num_classes, activation='softmax'))\n",
    "\n",
    "  return model\n",
    "model = VGG16_Modified_Reg(input_shape=(224, 224, 3), num_classes=len(labels), reg_lambda=0.0001)"
   ]
  },
  {
   "cell_type": "code",
   "execution_count": null,
   "metadata": {
    "execution": {
     "iopub.execute_input": "2024-03-04T09:22:34.766574Z",
     "iopub.status.busy": "2024-03-04T09:22:34.765960Z",
     "iopub.status.idle": "2024-03-04T09:22:34.778258Z",
     "shell.execute_reply": "2024-03-04T09:22:34.777311Z",
     "shell.execute_reply.started": "2024-03-04T09:22:34.766541Z"
    }
   },
   "outputs": [],
   "source": [
    "optimizer = tf.keras.optimizers.SGD(learning_rate=0.001, momentum=0.9)\n",
    "model.compile(optimizer,\n",
    "              loss='categorical_crossentropy',\n",
    "              metrics=['accuracy'])"
   ]
  },
  {
   "cell_type": "code",
   "execution_count": null,
   "metadata": {
    "execution": {
     "iopub.execute_input": "2024-03-04T09:22:36.967040Z",
     "iopub.status.busy": "2024-03-04T09:22:36.966175Z",
     "iopub.status.idle": "2024-03-04T09:22:37.006212Z",
     "shell.execute_reply": "2024-03-04T09:22:37.005420Z",
     "shell.execute_reply.started": "2024-03-04T09:22:36.967007Z"
    }
   },
   "outputs": [],
   "source": [
    "model.summary()"
   ]
  },
  {
   "cell_type": "code",
   "execution_count": null,
   "metadata": {
    "execution": {
     "iopub.execute_input": "2024-03-04T09:22:42.494671Z",
     "iopub.status.busy": "2024-03-04T09:22:42.494198Z",
     "iopub.status.idle": "2024-03-04T09:22:42.631194Z",
     "shell.execute_reply": "2024-03-04T09:22:42.630181Z",
     "shell.execute_reply.started": "2024-03-04T09:22:42.494630Z"
    }
   },
   "outputs": [],
   "source": [
    "from tensorflow.keras.preprocessing.image import ImageDataGenerator\n",
    "\n",
    "train_datagen = ImageDataGenerator(\n",
    "    horizontal_flip=True,\n",
    "    vertical_flip=True,\n",
    "    rotation_range=15,\n",
    "    zoom_range=0.1,\n",
    "    width_shift_range=0.15,\n",
    "    height_shift_range=0.15,\n",
    "    shear_range=0.1,\n",
    "    fill_mode=\"nearest\",\n",
    "    rescale=1./255., \n",
    "    validation_split=0.2\n",
    ")\n",
    "\n",
    "train_generator = train_datagen.flow_from_directory(\n",
    "    train_dir,  \n",
    "    target_size=(224, 224),\n",
    "    batch_size=16,\n",
    "    class_mode='categorical',\n",
    "    subset='training'\n",
    ")\n",
    "\n",
    "validation_generator = train_datagen.flow_from_directory(\n",
    "    train_dir,  \n",
    "    target_size=(224,224),\n",
    "    batch_size=16,\n",
    "    class_mode='categorical',\n",
    "    subset='validation'\n",
    ")\n"
   ]
  },
  {
   "cell_type": "code",
   "execution_count": null,
   "metadata": {
    "execution": {
     "iopub.execute_input": "2024-03-04T09:22:45.269828Z",
     "iopub.status.busy": "2024-03-04T09:22:45.269399Z",
     "iopub.status.idle": "2024-03-04T09:22:45.276235Z",
     "shell.execute_reply": "2024-03-04T09:22:45.275237Z",
     "shell.execute_reply.started": "2024-03-04T09:22:45.269793Z"
    }
   },
   "outputs": [],
   "source": [
    "# creating the callback function so that it can be used to end the training in case reached a good accuracy rate (above 90%)\n",
    "\n",
    "class myCallback(tf.keras.callbacks.Callback):\n",
    "    def on_epoch_end(self, epoch, logs={}):\n",
    "        if(logs.get('accuracy')>0.97):\n",
    "            print(\"\\nReached 97% accuracy so cancelling training!\")\n",
    "            self.model.stop_training = True\n",
    "\n",
    "callbacks = myCallback()"
   ]
  },
  {
   "cell_type": "code",
   "execution_count": null,
   "metadata": {
    "execution": {
     "iopub.execute_input": "2024-03-04T09:28:04.848584Z",
     "iopub.status.busy": "2024-03-04T09:28:04.847765Z",
     "iopub.status.idle": "2024-03-04T09:54:00.020479Z",
     "shell.execute_reply": "2024-03-04T09:54:00.019441Z",
     "shell.execute_reply.started": "2024-03-04T09:28:04.848552Z"
    }
   },
   "outputs": [],
   "source": [
    "history = model.fit(train_generator, epochs=50, verbose=1, validation_data=validation_generator, callbacks=[callbacks])"
   ]
  },
  {
   "cell_type": "code",
   "execution_count": null,
   "metadata": {
    "execution": {
     "iopub.execute_input": "2024-03-04T09:54:00.022509Z",
     "iopub.status.busy": "2024-03-04T09:54:00.022177Z",
     "iopub.status.idle": "2024-03-04T10:19:10.957167Z",
     "shell.execute_reply": "2024-03-04T10:19:10.956366Z",
     "shell.execute_reply.started": "2024-03-04T09:54:00.022483Z"
    }
   },
   "outputs": [],
   "source": [
    "history = model.fit(train_generator, epochs=50, verbose=1, validation_data=validation_generator, callbacks=[callbacks])"
   ]
  },
  {
   "cell_type": "code",
   "execution_count": null,
   "metadata": {
    "execution": {
     "iopub.execute_input": "2024-03-04T10:19:10.958624Z",
     "iopub.status.busy": "2024-03-04T10:19:10.958368Z",
     "iopub.status.idle": "2024-03-04T10:44:10.153443Z",
     "shell.execute_reply": "2024-03-04T10:44:10.152336Z",
     "shell.execute_reply.started": "2024-03-04T10:19:10.958602Z"
    }
   },
   "outputs": [],
   "source": [
    "history = model.fit(train_generator, epochs=50, verbose=1, validation_data=validation_generator, callbacks=[callbacks])"
   ]
  },
  {
   "cell_type": "code",
   "execution_count": null,
   "metadata": {
    "execution": {
     "iopub.execute_input": "2024-03-04T12:01:20.563007Z",
     "iopub.status.busy": "2024-03-04T12:01:20.562277Z",
     "iopub.status.idle": "2024-03-04T12:16:39.762697Z",
     "shell.execute_reply": "2024-03-04T12:16:39.761932Z",
     "shell.execute_reply.started": "2024-03-04T12:01:20.562970Z"
    }
   },
   "outputs": [],
   "source": [
    "history = model.fit(train_generator, epochs=50, verbose=1, validation_data=validation_generator, callbacks=[callbacks])"
   ]
  },
  {
   "cell_type": "code",
   "execution_count": null,
   "metadata": {
    "execution": {
     "iopub.execute_input": "2024-03-04T12:45:35.539424Z",
     "iopub.status.busy": "2024-03-04T12:45:35.538694Z",
     "iopub.status.idle": "2024-03-04T12:45:35.852909Z",
     "shell.execute_reply": "2024-03-04T12:45:35.851656Z",
     "shell.execute_reply.started": "2024-03-04T12:45:35.539392Z"
    }
   },
   "outputs": [],
   "source": [
    "import pickle\n",
    "model.save_weights('vgg16.weights.h5')"
   ]
  },
  {
   "cell_type": "code",
   "execution_count": null,
   "metadata": {
    "execution": {
     "iopub.execute_input": "2024-03-04T12:47:16.379051Z",
     "iopub.status.busy": "2024-03-04T12:47:16.378091Z",
     "iopub.status.idle": "2024-03-04T12:47:16.685409Z",
     "shell.execute_reply": "2024-03-04T12:47:16.684465Z",
     "shell.execute_reply.started": "2024-03-04T12:47:16.379012Z"
    }
   },
   "outputs": [],
   "source": [
    "model.save('vgg16_model.h5')"
   ]
  },
  {
   "cell_type": "code",
   "execution_count": null,
   "metadata": {
    "execution": {
     "iopub.execute_input": "2024-03-04T12:58:50.208842Z",
     "iopub.status.busy": "2024-03-04T12:58:50.208467Z",
     "iopub.status.idle": "2024-03-04T12:58:50.213617Z",
     "shell.execute_reply": "2024-03-04T12:58:50.212543Z",
     "shell.execute_reply.started": "2024-03-04T12:58:50.208812Z"
    }
   },
   "outputs": [],
   "source": [
    "from IPython.display import FileLink "
   ]
  },
  {
   "cell_type": "code",
   "execution_count": null,
   "metadata": {
    "execution": {
     "iopub.execute_input": "2024-03-04T12:59:42.921476Z",
     "iopub.status.busy": "2024-03-04T12:59:42.921101Z",
     "iopub.status.idle": "2024-03-04T12:59:42.927725Z",
     "shell.execute_reply": "2024-03-04T12:59:42.926758Z",
     "shell.execute_reply.started": "2024-03-04T12:59:42.921450Z"
    }
   },
   "outputs": [],
   "source": [
    "FileLink(r'vgg16.weights.h5')"
   ]
  }
 ],
 "metadata": {
  "kaggle": {
   "accelerator": "nvidiaTeslaT4",
   "dataSources": [
    {
     "datasetId": 4531139,
     "sourceId": 7750269,
     "sourceType": "datasetVersion"
    },
    {
     "datasetId": 4535970,
     "sourceId": 7757002,
     "sourceType": "datasetVersion"
    }
   ],
   "dockerImageVersionId": 30665,
   "isGpuEnabled": true,
   "isInternetEnabled": true,
   "language": "python",
   "sourceType": "notebook"
  },
  "kernelspec": {
   "display_name": "Python 3 (ipykernel)",
   "language": "python",
   "name": "python3"
  },
  "language_info": {
   "codemirror_mode": {
    "name": "ipython",
    "version": 3
   },
   "file_extension": ".py",
   "mimetype": "text/x-python",
   "name": "python",
   "nbconvert_exporter": "python",
   "pygments_lexer": "ipython3",
   "version": "3.9.13"
  }
 },
 "nbformat": 4,
 "nbformat_minor": 4
}
